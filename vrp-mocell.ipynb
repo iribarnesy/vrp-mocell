{
 "cells": [
  {
   "cell_type": "code",
   "execution_count": 1,
   "metadata": {},
   "outputs": [
    {
     "name": "stdout",
     "output_type": "stream",
     "text": [
      "Collecting jmetalpy\n",
      "  Downloading jmetalpy-1.5.5.tar.gz (110 kB)\n",
      "\u001b[K     |████████████████████████████████| 110 kB 916 kB/s eta 0:00:01\n",
      "\u001b[?25hRequirement already satisfied: tqdm in /home/siribarne/anaconda3/lib/python3.8/site-packages (from jmetalpy) (4.47.0)\n",
      "Requirement already satisfied: numpy>=1.16.0 in /home/siribarne/anaconda3/lib/python3.8/site-packages (from jmetalpy) (1.18.0)\n",
      "Requirement already satisfied: pandas>=0.24.2 in /home/siribarne/anaconda3/lib/python3.8/site-packages (from jmetalpy) (1.0.3)\n",
      "Collecting plotly>=3.3.0\n",
      "  Downloading plotly-4.14.3-py2.py3-none-any.whl (13.2 MB)\n",
      "\u001b[K     |████████████████████████████████| 13.2 MB 275 kB/s eta 0:00:01\n",
      "\u001b[?25hRequirement already satisfied: matplotlib>=3.0.2 in /home/siribarne/anaconda3/lib/python3.8/site-packages (from jmetalpy) (3.0.3)\n",
      "Requirement already satisfied: scipy>=1.3.0 in /home/siribarne/anaconda3/lib/python3.8/site-packages (from jmetalpy) (1.5.0)\n",
      "Requirement already satisfied: statsmodels>=0.9.0 in /home/siribarne/anaconda3/lib/python3.8/site-packages (from jmetalpy) (0.11.1)\n",
      "Requirement already satisfied: pytz>=2017.2 in /home/siribarne/anaconda3/lib/python3.8/site-packages (from pandas>=0.24.2->jmetalpy) (2020.1)\n",
      "Requirement already satisfied: python-dateutil>=2.6.1 in /home/siribarne/anaconda3/lib/python3.8/site-packages (from pandas>=0.24.2->jmetalpy) (2.8.1)\n",
      "Collecting retrying>=1.3.3\n",
      "  Downloading retrying-1.3.3.tar.gz (10 kB)\n",
      "Requirement already satisfied: six in /home/siribarne/anaconda3/lib/python3.8/site-packages (from plotly>=3.3.0->jmetalpy) (1.15.0)\n",
      "Requirement already satisfied: pyparsing!=2.0.4,!=2.1.2,!=2.1.6,>=2.0.1 in /home/siribarne/.local/lib/python3.8/site-packages (from matplotlib>=3.0.2->jmetalpy) (2.4.7)\n",
      "Requirement already satisfied: cycler>=0.10 in /home/siribarne/anaconda3/lib/python3.8/site-packages (from matplotlib>=3.0.2->jmetalpy) (0.10.0)\n",
      "Requirement already satisfied: kiwisolver>=1.0.1 in /home/siribarne/anaconda3/lib/python3.8/site-packages (from matplotlib>=3.0.2->jmetalpy) (1.2.0)\n",
      "Requirement already satisfied: patsy>=0.5 in /home/siribarne/anaconda3/lib/python3.8/site-packages (from statsmodels>=0.9.0->jmetalpy) (0.5.1)\n",
      "Building wheels for collected packages: jmetalpy, retrying\n",
      "  Building wheel for jmetalpy (setup.py) ... \u001b[?25ldone\n",
      "\u001b[?25h  Created wheel for jmetalpy: filename=jmetalpy-1.5.5-py3-none-any.whl size=196216 sha256=da246acbfe1237b2a09b98b1b6ab67c204e9a4bacbca0b7c4b37079ec760849b\n",
      "  Stored in directory: /home/siribarne/.cache/pip/wheels/fd/75/33/354a1b9945bad371cdd41bd4b1483e3962129fa81c10583775\n",
      "  Building wheel for retrying (setup.py) ... \u001b[?25ldone\n",
      "\u001b[?25h  Created wheel for retrying: filename=retrying-1.3.3-py3-none-any.whl size=11430 sha256=e71f9b49720aa32c2ce82952224124397eaa5cfe6d59967e62ec1127b0ed1d7b\n",
      "  Stored in directory: /home/siribarne/.cache/pip/wheels/c4/a7/48/0a434133f6d56e878ca511c0e6c38326907c0792f67b476e56\n",
      "Successfully built jmetalpy retrying\n",
      "Installing collected packages: retrying, plotly, jmetalpy\n",
      "Successfully installed jmetalpy-1.5.5 plotly-4.14.3 retrying-1.3.3\n"
     ]
    }
   ],
   "source": [
    "# !pip install jmetalpy"
   ]
  },
  {
   "cell_type": "code",
   "execution_count": 13,
   "metadata": {
    "jupyter": {
     "source_hidden": true
    }
   },
   "outputs": [],
   "source": [
    "from jmetal.algorithm.multiobjective import NSGAII\n",
    "from jmetal.operator import SBXCrossover, PolynomialMutation\n",
    "from jmetal.problem import ZDT1\n",
    "from jmetal.util.termination_criterion import StoppingByEvaluations\n",
    "\n",
    "problem = ZDT1()\n",
    "\n",
    "algorithm = NSGAII(\n",
    "    problem=problem,\n",
    "    population_size=100,\n",
    "    offspring_population_size=100,\n",
    "    mutation=PolynomialMutation(probability=1.0 / problem.number_of_variables, distribution_index=20),\n",
    "    crossover=SBXCrossover(probability=1.0, distribution_index=20),\n",
    "    termination_criterion=StoppingByEvaluations(max_evaluations=25000)\n",
    ")\n",
    "\n",
    "algorithm.run()\n",
    "front = get_non_dominated_solutions(algorithm.get_result())\n",
    "\n",
    "plot_front = Plot(title='Pareto front approximation', axis_labels=['x', 'y'])\n",
    "plot_front.plot(front, label='NSGAII-ZDT1', filename='NSGAII-ZDT1', format='png')"
   ]
  },
  {
   "cell_type": "code",
   "execution_count": null,
   "metadata": {},
   "outputs": [],
   "source": [
    "def cross(a, b, i, j):\n",
    "    return a[:i] + b[j:], b[:j] + a[i:]\n",
    "\n",
    "\n",
    "def insertion(a, b, i, j):\n",
    "    # print(a, b, i, j)\n",
    "    if len(a) == 0:\n",
    "        return a, b\n",
    "    while i >= len(a):\n",
    "        i -= len(a)\n",
    "    return a[:i] + a[i + 1:], b[:j] + [a[i]] + b[j:]\n",
    "\n",
    "\n",
    "def swap(a, b, i, j):\n",
    "    # print(a, b, i, j)\n",
    "    if i >= len(a) or j >= len(b):\n",
    "        return a, b\n",
    "    a, b = a.copy(), b.copy()\n",
    "    a[i], b[j] = b[j], a[i]\n",
    "    return a, b"
   ]
  },
  {
   "cell_type": "code",
   "execution_count": 31,
   "metadata": {},
   "outputs": [],
   "source": [
    "from jmetal.core.problem import FloatProblem, FloatSolution\n",
    "from math import sqrt\n",
    "\n",
    "class VRP(FloatProblem):\n",
    "    \"\"\" Problem VRP.\n",
    "    \n",
    "    IDK\n",
    "    \n",
    "    .. note:: Bi-objective unconstrained problem. The default number of variables is 30.\n",
    "    .. note:: Continuous problem having a convex Pareto front\n",
    "    \"\"\"\n",
    "\n",
    "    def __init__(self, number_of_variables: int=30):\n",
    "        \"\"\" :param number_of_variables: Number of decision variables of the problem.\n",
    "        \"\"\"\n",
    "        super(VRP, self).__init__()\n",
    "        self.number_of_variables = number_of_variables\n",
    "        self.number_of_objectives = 2\n",
    "        self.number_of_constraints = 0\n",
    "\n",
    "        self.obj_directions = [self.MINIMIZE, self.MINIMIZE]\n",
    "        self.obj_labels = ['x', 'y']\n",
    "\n",
    "        self.lower_bound = self.number_of_variables * [0.0]\n",
    "        self.upper_bound = self.number_of_variables * [1.0]\n",
    "\n",
    "    def evaluate(self, solution: FloatSolution) -> FloatSolution:\n",
    "        g = self.eval_g(solution)\n",
    "        h = self.eval_h(solution.variables[0], g)\n",
    "\n",
    "        solution.objectives[0] = solution.variables[0]\n",
    "        solution.objectives[1] = h * g\n",
    "\n",
    "        return solution\n",
    "\n",
    "    def eval_g(self, solution: FloatSolution):\n",
    "        g = sum(solution.variables) - solution.variables[0]\n",
    "\n",
    "        constant = 9.0 / (solution.number_of_variables - 1)\n",
    "\n",
    "        return constant * g + 1.0\n",
    "\n",
    "    def eval_h(self, f: float, g: float) -> float:\n",
    "        return 1.0 - sqrt(f / g)\n",
    "\n",
    "    def get_name(self):\n",
    "        return 'VRP'"
   ]
  },
  {
   "cell_type": "code",
   "execution_count": 32,
   "metadata": {},
   "outputs": [],
   "source": [
    "from jmetal.algorithm.multiobjective import MOCell\n",
    "from jmetal.operator import PolynomialMutation, SBXCrossover\n",
    "from jmetal.problem import ZDT1\n",
    "from jmetal.util.termination_criterion import StoppingByEvaluations\n",
    "from jmetal.util.neighborhood import C9\n",
    "from jmetal.util.archive import CrowdingDistanceArchive\n",
    "\n",
    "from jmetal.util.solution import get_non_dominated_solutions\n",
    "from jmetal.lab.visualization import Plot\n",
    "\n",
    "problem = VRP()\n",
    "\n",
    "algorithm = MOCell(\n",
    "    problem=problem,\n",
    "    population_size=100,\n",
    "    neighborhood=C9(3, 3),\n",
    "    archive=CrowdingDistanceArchive(100),\n",
    "    mutation=PolynomialMutation(probability=1.0 / problem.number_of_variables, distribution_index=20),\n",
    "    crossover=SBXCrossover(probability=1.0, distribution_index=20),\n",
    "    termination_criterion=StoppingByEvaluations(max_evaluations=25000)\n",
    ")\n",
    "\n",
    "algorithm.run()\n",
    "\n",
    "front = get_non_dominated_solutions(algorithm.get_result())\n",
    "\n",
    "plot_front = Plot(title='Pareto front approximation', axis_labels=['x', 'y'])\n",
    "plot_front.plot(front, label='MOCell-VRP', filename='MOCell-VRP', format='png')"
   ]
  },
  {
   "cell_type": "code",
   "execution_count": 43,
   "metadata": {},
   "outputs": [
    {
     "data": {
      "text/plain": [
       "Instance: C108\n",
       "Vehicle number: 25\n",
       "Vehicle capacity: 200"
      ]
     },
     "execution_count": 43,
     "metadata": {},
     "output_type": "execute_result"
    }
   ],
   "source": [
    "from VRPTW.parser import SolomonFormatParser\n",
    "\n",
    "problem = SolomonFormatParser(\"instances/C108.txt\").get_problem()\n",
    "problem"
   ]
  },
  {
   "cell_type": "code",
   "execution_count": 14,
   "metadata": {},
   "outputs": [
    {
     "data": {
      "text/plain": [
       "\u001b[0;31mInit signature:\u001b[0m \u001b[0mC9\u001b[0m\u001b[0;34m(\u001b[0m\u001b[0;34m*\u001b[0m\u001b[0margs\u001b[0m\u001b[0;34m,\u001b[0m \u001b[0;34m**\u001b[0m\u001b[0mkwds\u001b[0m\u001b[0;34m)\u001b[0m\u001b[0;34m\u001b[0m\u001b[0;34m\u001b[0m\u001b[0m\n",
       "\u001b[0;31mDocstring:\u001b[0m     \n",
       " Class defining an C9 neighborhood of a solution belonging to a list of solutions which is\n",
       " structured as a bi-dimensional mesh. The neighbors are those solutions that are in 1-hop distance\n",
       "\n",
       "Shape:\n",
       "        * * *\n",
       "        * o *\n",
       "        * * *\n",
       "\n",
       "Topology:\n",
       "         north      = {-1,  0}\n",
       "         south      = { 1 , 0}\n",
       "         east       = { 0 , 1}\n",
       "         west       = { 0 ,-1}\n",
       "         north_east = {-1,  1}\n",
       "         north_west = {-1, -1}\n",
       "         south_east = { 1 , 1}\n",
       "         south_west = { 1 ,-1}\n",
       " \n",
       "\u001b[0;31mFile:\u001b[0m           ~/anaconda3/lib/python3.8/site-packages/jmetal/util/neighborhood.py\n",
       "\u001b[0;31mType:\u001b[0m           ABCMeta\n",
       "\u001b[0;31mSubclasses:\u001b[0m     \n"
      ]
     },
     "metadata": {},
     "output_type": "display_data"
    }
   ],
   "source": [
    "C9?"
   ]
  },
  {
   "cell_type": "code",
   "execution_count": null,
   "metadata": {},
   "outputs": [],
   "source": []
  }
 ],
 "metadata": {
  "kernelspec": {
   "display_name": "Python 3",
   "language": "python",
   "name": "python3"
  },
  "language_info": {
   "codemirror_mode": {
    "name": "ipython",
    "version": 3
   },
   "file_extension": ".py",
   "mimetype": "text/x-python",
   "name": "python",
   "nbconvert_exporter": "python",
   "pygments_lexer": "ipython3",
   "version": "3.8.3"
  }
 },
 "nbformat": 4,
 "nbformat_minor": 4
}
